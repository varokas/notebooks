{
  "nbformat": 4,
  "nbformat_minor": 0,
  "metadata": {
    "colab": {
      "name": "pandas.ipynb",
      "version": "0.3.2",
      "provenance": []
    },
    "language_info": {
      "codemirror_mode": {
        "name": "ipython",
        "version": 3
      },
      "file_extension": ".py",
      "mimetype": "text/x-python",
      "name": "python",
      "nbconvert_exporter": "python",
      "pygments_lexer": "ipython3",
      "version": "3.6.5"
    },
    "kernelspec": {
      "display_name": "Python 3",
      "language": "python",
      "name": "python3"
    }
  },
  "cells": [
    {
      "cell_type": "markdown",
      "metadata": {
        "id": "Th8MQ2--kMVL",
        "colab_type": "text"
      },
      "source": [
        "# Pandas"
      ]
    },
    {
      "cell_type": "code",
      "metadata": {
        "id": "C3vT3zPTkMVO",
        "colab_type": "code",
        "colab": {}
      },
      "source": [
        "import pandas as pd"
      ],
      "execution_count": 0,
      "outputs": []
    },
    {
      "cell_type": "markdown",
      "metadata": {
        "id": "vIMqFiCakMVT",
        "colab_type": "text"
      },
      "source": [
        "## Series"
      ]
    },
    {
      "cell_type": "code",
      "metadata": {
        "id": "3Y-IYlZxkMVU",
        "colab_type": "code",
        "colab": {},
        "outputId": "32dc8e05-10b3-413a-9927-40a12ef3b24d"
      },
      "source": [
        "from pandas import Series\n",
        "\n",
        "s = Series([-3,2,6,1])\n",
        "s"
      ],
      "execution_count": 0,
      "outputs": [
        {
          "output_type": "execute_result",
          "data": {
            "text/plain": [
              "0   -3\n",
              "1    2\n",
              "2    6\n",
              "3    1\n",
              "dtype: int64"
            ]
          },
          "metadata": {
            "tags": []
          },
          "execution_count": 2
        }
      ]
    },
    {
      "cell_type": "code",
      "metadata": {
        "id": "DXpFKUdhkMVZ",
        "colab_type": "code",
        "colab": {},
        "outputId": "608dbd42-d3e4-4fa9-f3e4-c823c4730615"
      },
      "source": [
        "# Series has index and values. default is generated range\n",
        "(s.index, s.values)"
      ],
      "execution_count": 0,
      "outputs": [
        {
          "output_type": "execute_result",
          "data": {
            "text/plain": [
              "(RangeIndex(start=0, stop=4, step=1), array([-3,  2,  6,  1]))"
            ]
          },
          "metadata": {
            "tags": []
          },
          "execution_count": 3
        }
      ]
    },
    {
      "cell_type": "code",
      "metadata": {
        "id": "zrl1L8UMkMVe",
        "colab_type": "code",
        "colab": {},
        "outputId": "35246c91-4218-481a-adc3-681c90e4be17"
      },
      "source": [
        "# Defined series with given index\n",
        "si = Series([-3,2,6,1], index=['a','b','c','d'])\n",
        "si2 = Series({'a':-3, 'b':2, 'c':6, 'd':1})\n",
        "si"
      ],
      "execution_count": 0,
      "outputs": [
        {
          "output_type": "execute_result",
          "data": {
            "text/plain": [
              "a   -3\n",
              "b    2\n",
              "c    6\n",
              "d    1\n",
              "dtype: int64"
            ]
          },
          "metadata": {
            "tags": []
          },
          "execution_count": 4
        }
      ]
    },
    {
      "cell_type": "code",
      "metadata": {
        "id": "FrFLvONZkMVj",
        "colab_type": "code",
        "colab": {},
        "outputId": "7229b634-12eb-45a4-88f3-267efaece465"
      },
      "source": [
        "# address values with index\n",
        "si[['a','c']]"
      ],
      "execution_count": 0,
      "outputs": [
        {
          "output_type": "execute_result",
          "data": {
            "text/plain": [
              "a   -3\n",
              "c    6\n",
              "dtype: int64"
            ]
          },
          "metadata": {
            "tags": []
          },
          "execution_count": 5
        }
      ]
    },
    {
      "cell_type": "code",
      "metadata": {
        "id": "fKjjjKyXkMVn",
        "colab_type": "code",
        "colab": {},
        "outputId": "1ba09f85-6e6a-494f-96ec-be1988789c66"
      },
      "source": [
        "# Boolean select just like numpy\n",
        "si[si > 4]"
      ],
      "execution_count": 0,
      "outputs": [
        {
          "output_type": "execute_result",
          "data": {
            "text/plain": [
              "c    6\n",
              "dtype: int64"
            ]
          },
          "metadata": {
            "tags": []
          },
          "execution_count": 6
        }
      ]
    },
    {
      "cell_type": "code",
      "metadata": {
        "id": "_-TNAyA6kMVs",
        "colab_type": "code",
        "colab": {},
        "outputId": "07686016-0bb1-4ef2-e91c-d7a2db502eb4"
      },
      "source": [
        "# Test membership like a dict\n",
        "'a' in si"
      ],
      "execution_count": 0,
      "outputs": [
        {
          "output_type": "execute_result",
          "data": {
            "text/plain": [
              "True"
            ]
          },
          "metadata": {
            "tags": []
          },
          "execution_count": 7
        }
      ]
    },
    {
      "cell_type": "code",
      "metadata": {
        "id": "iOeLTdZLkMVw",
        "colab_type": "code",
        "colab": {},
        "outputId": "7376770f-059e-4d07-eb27-cd21994ea137"
      },
      "source": [
        "# Copy with new index\n",
        "Series(si, index=['d','c','b','a','z'])"
      ],
      "execution_count": 0,
      "outputs": [
        {
          "output_type": "execute_result",
          "data": {
            "text/plain": [
              "d    1.0\n",
              "c    6.0\n",
              "b    2.0\n",
              "a   -3.0\n",
              "z    NaN\n",
              "dtype: float64"
            ]
          },
          "metadata": {
            "tags": []
          },
          "execution_count": 8
        }
      ]
    },
    {
      "cell_type": "code",
      "metadata": {
        "id": "5l9nmTLEkMVz",
        "colab_type": "code",
        "colab": {},
        "outputId": "ddb21091-b227-4125-e9d0-02eace18c0cd"
      },
      "source": [
        "# Test nullable\n",
        "pd.isnull( Series({'a':None}) ), pd.notnull( Series({'a':None}) )"
      ],
      "execution_count": 0,
      "outputs": [
        {
          "output_type": "execute_result",
          "data": {
            "text/plain": [
              "(a    True\n",
              " dtype: bool, a    False\n",
              " dtype: bool)"
            ]
          },
          "metadata": {
            "tags": []
          },
          "execution_count": 9
        }
      ]
    },
    {
      "cell_type": "markdown",
      "metadata": {
        "id": "7K0haNqvkMV3",
        "colab_type": "text"
      },
      "source": [
        "## DataFrame"
      ]
    }
  ]
}